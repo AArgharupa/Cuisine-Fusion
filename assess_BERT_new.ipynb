{
 "cells": [
  {
   "cell_type": "code",
   "execution_count": null,
   "metadata": {
    "id": "ZQ619SPCgaEy",
    "tags": []
   },
   "outputs": [],
   "source": [
    "import os\n",
    "import torch\n",
    "import numpy as np\n",
    "import pandas as pd\n",
    "import gensim\n",
    "import csv\n",
    "from torch import nn\n",
    "from torch.utils.data import Dataset, DataLoader\n",
    "from torchvision import transforms, utils\n",
    "import torch.nn.functional as F\n",
    "import pickle\n",
    "import random\n",
    "import math\n",
    "from tqdm import tqdm\n",
    "from sklearn.metrics.pairwise import cosine_similarity\n",
    "\n",
    "import warnings\n",
    "warnings.filterwarnings(\"ignore\")"
   ]
  },
  {
   "cell_type": "code",
   "execution_count": 21,
   "metadata": {
    "tags": []
   },
   "outputs": [],
   "source": [
    "no_classes = 5\n",
    "no_ingredients = 11744  # for 5 classes\n",
    "hidden_layer = int(math.sqrt(no_classes*no_ingredients))\n",
    "\n",
    "# set up the number of recipes you need for each experiment, and the number of experiments\n",
    "recipes_to_transform = 100\n",
    "number_of_experiments = 1\n",
    "\n",
    "class MLP(nn.Module):\n",
    "  '''\n",
    "    Multilayer Perceptron.\n",
    "  '''\n",
    "  def __init__(self):\n",
    "    super().__init__()\n",
    "    self.layers = nn.Sequential(\n",
    "      nn.Linear(no_ingredients, hidden_layer),\n",
    "      nn.ReLU(),\n",
    "      nn.Linear(hidden_layer, no_classes)\n",
    "    )\n",
    "\n",
    "  def forward(self, x):\n",
    "    '''Forward pass'''\n",
    "    x=torch.squeeze(x).float()\n",
    "    x=self.layers(x)\n",
    "    # x = F.softmax(x)\n",
    "    return x\n",
    "\n",
    "def ret_vec_for_model(ing_list):\n",
    "    a=np.zeros(no_ingredients,dtype=float)\n",
    "    for i in ing_list:\n",
    "        a[ing_dict[i]] = 1\n",
    "    a=torch.from_numpy(a)\n",
    "    return a\n"
   ]
  },
  {
   "cell_type": "markdown",
   "metadata": {},
   "source": [
    "# READ REQUIRED DATA"
   ]
  },
  {
   "cell_type": "code",
   "execution_count": 22,
   "metadata": {
    "colab": {
     "base_uri": "https://localhost:8080/"
    },
    "executionInfo": {
     "elapsed": 1983558,
     "status": "ok",
     "timestamp": 1680720100115,
     "user": {
      "displayName": "Lakshay Dabas",
      "userId": "08775168375441141735"
     },
     "user_tz": -330
    },
    "id": "ukykNp8qRvlz",
    "outputId": "55e7195c-44cb-49b0-c3c5-9126d4989812",
    "tags": []
   },
   "outputs": [
    {
     "name": "stderr",
     "output_type": "stream",
     "text": [
      "\n",
      "KeyboardInterrupt\n",
      "\n"
     ]
    }
   ],
   "source": [
    "\n",
    "f=open(\"Cuisine Fusion Data/region_dict5.data\",'rb')\n",
    "reg_dict=pickle.load(f)\n",
    "\n",
    "f=open(\"Cuisine Fusion Data/ingredint_dict5.data\",'rb')\n",
    "ing_dict=pickle.load(f)\n",
    "\n",
    "f=open('Cuisine Fusion Data/percentage_dict5.data','rb')\n",
    "percentage_dict = pickle.load(f)\n",
    "\n",
    "f=open(\"Cuisine Fusion Data/tdata5.data\",'rb')\n",
    "tdata=pickle.load(f)\n",
    "tdata = list(tdata.items())\n",
    "\n",
    "f=open(\"Cuisine Fusion Data/nn_model5.m\",'rb')\n",
    "pred_model=pickle.load(f)\n",
    "\n",
    "# f=open(\"../data/w2vec5.m\",'rb') \n",
    "# tran_model=pickle.load(f)\n"
   ]
  },
  {
   "cell_type": "code",
   "execution_count": 30,
   "metadata": {
    "tags": []
   },
   "outputs": [
    {
     "data": {
      "text/plain": [
       "51349"
      ]
     },
     "execution_count": 30,
     "metadata": {},
     "output_type": "execute_result"
    }
   ],
   "source": [
    "len(tdata)"
   ]
  },
  {
   "cell_type": "code",
   "execution_count": null,
   "metadata": {},
   "outputs": [],
   "source": []
  },
  {
   "cell_type": "code",
   "execution_count": 27,
   "metadata": {
    "tags": []
   },
   "outputs": [
    {
     "data": {
      "text/plain": [
       "(95149,\n",
       " ['South_American',\n",
       "  'beef',\n",
       "  'garlic_clove',\n",
       "  'taco_seasoning',\n",
       "  'bean',\n",
       "  'cream_mushroom_soup',\n",
       "  'salsa',\n",
       "  'cheese',\n",
       "  'jalapeno',\n",
       "  'black_olive'])"
      ]
     },
     "execution_count": 27,
     "metadata": {},
     "output_type": "execute_result"
    }
   ],
   "source": [
    "tdata[46389]"
   ]
  },
  {
   "cell_type": "code",
   "execution_count": 29,
   "metadata": {
    "tags": []
   },
   "outputs": [
    {
     "name": "stderr",
     "output_type": "stream",
     "text": [
      "\n",
      "KeyboardInterrupt\n",
      "\n"
     ]
    }
   ],
   "source": [
    "model = gensim.models.Word2Vec(tdata[:100],vector_size=100, window=40, min_count=1)\n",
    "model.build_vocab(tdata[:100], progress_per=1000)\n",
    "print(\"Created vocab\")\n",
    "# print(\"Corpus count= \", model.corpus_count)  ##118083\n",
    "\n",
    "print(\"Training started for \" + str(5))\n",
    "model.train(tdata[:100],total_examples=model.corpus_count, epochs=5)\n",
    "print(\"Training complete\")\n"
   ]
  },
  {
   "cell_type": "code",
   "execution_count": 4,
   "metadata": {
    "tags": []
   },
   "outputs": [],
   "source": [
    "## it is a dictionary of dictionaries\n",
    "ing_file = 'All_Ing_Inst_Emb_Dict.pkl'\n",
    "\n",
    "with open(ing_file, 'rb') as file:\n",
    "    ing_emb_dict = pickle.load(file)\n"
   ]
  },
  {
   "cell_type": "code",
   "execution_count": 5,
   "metadata": {
    "tags": []
   },
   "outputs": [],
   "source": [
    "\n",
    "\n",
    "## it is a dictionary\n",
    "cuisine_file = 'Cuisine_Mean_Emb_SBERT.pkl'\n",
    "\n",
    "with open(cuisine_file, 'rb') as file:\n",
    "    cuisine_emb_dict = pickle.load(file)\n"
   ]
  },
  {
   "cell_type": "code",
   "execution_count": 6,
   "metadata": {
    "tags": []
   },
   "outputs": [
    {
     "name": "stdout",
     "output_type": "stream",
     "text": [
      "Cosine Similarity between Italian and Italian  [[1.]]\n",
      "Cosine Similarity between Italian and Mexican  [[0.96509419]]\n",
      "Cosine Similarity between Italian and Canadian  [[0.95004395]]\n",
      "Cosine Similarity between Italian and South_American  [[0.96455813]]\n",
      "Cosine Similarity between Italian and Indian_Subcontinent  [[0.93616573]]\n",
      "Cosine Similarity between Mexican and Italian  [[0.96509419]]\n",
      "Cosine Similarity between Mexican and Mexican  [[1.]]\n",
      "Cosine Similarity between Mexican and Canadian  [[0.95653124]]\n",
      "Cosine Similarity between Mexican and South_American  [[0.97123027]]\n",
      "Cosine Similarity between Mexican and Indian_Subcontinent  [[0.94681934]]\n",
      "Cosine Similarity between Canadian and Italian  [[0.95004395]]\n",
      "Cosine Similarity between Canadian and Mexican  [[0.95653124]]\n",
      "Cosine Similarity between Canadian and Canadian  [[1.]]\n",
      "Cosine Similarity between Canadian and South_American  [[0.94565368]]\n",
      "Cosine Similarity between Canadian and Indian_Subcontinent  [[0.95129737]]\n",
      "Cosine Similarity between South_American and Italian  [[0.96455813]]\n",
      "Cosine Similarity between South_American and Mexican  [[0.97123027]]\n",
      "Cosine Similarity between South_American and Canadian  [[0.94565368]]\n",
      "Cosine Similarity between South_American and South_American  [[1.]]\n",
      "Cosine Similarity between South_American and Indian_Subcontinent  [[0.93869553]]\n",
      "Cosine Similarity between Indian_Subcontinent and Italian  [[0.93616573]]\n",
      "Cosine Similarity between Indian_Subcontinent and Mexican  [[0.94681934]]\n",
      "Cosine Similarity between Indian_Subcontinent and Canadian  [[0.95129737]]\n",
      "Cosine Similarity between Indian_Subcontinent and South_American  [[0.93869553]]\n",
      "Cosine Similarity between Indian_Subcontinent and Indian_Subcontinent  [[1.]]\n"
     ]
    }
   ],
   "source": [
    "for key1,_ in cuisine_emb_dict.items():\n",
    "    for key2,_ in cuisine_emb_dict.items():\n",
    "        similarity= cosine_similarity(cuisine_emb_dict[key1].reshape(1,-1),cuisine_emb_dict[key2].reshape(1,-1))\n",
    "        print(f\"Cosine Similarity between {key1} and {key2} \",similarity)"
   ]
  },
  {
   "cell_type": "markdown",
   "metadata": {},
   "source": [
    "## CREATING A CSV FILE FOR RECIPE TRANFORMATION"
   ]
  },
  {
   "cell_type": "code",
   "execution_count": 7,
   "metadata": {
    "tags": []
   },
   "outputs": [
    {
     "data": {
      "text/plain": [
       "146"
      ]
     },
     "execution_count": 7,
     "metadata": {},
     "output_type": "execute_result"
    }
   ],
   "source": [
    "# creating a list of all the cuisines (It is stored as the key in our region_dict)\n",
    "\n",
    "cuisine_list = list()\n",
    "for key in reg_dict:\n",
    "    cuisine_list.append(key)\n",
    "\n",
    "#total data = total recipes * total experiments * number of fusions\n",
    "\n",
    "total_data = recipes_to_transform * number_of_experiments * 20\n",
    "\n",
    "f = open('sbert_new_inst_assess_table_'+str(total_data)+'_BERT.csv','w')\n",
    "writer = csv.writer(f)\n",
    "\n",
    "columns = ['Experiment Number','Recipe_ID','Source','Target','No of Ingredients','Success/Failure','Steps take for success','Confidence of Success','Transformed Ingredients']\n",
    "writer.writerow(columns)\n"
   ]
  },
  {
   "cell_type": "code",
   "execution_count": 8,
   "metadata": {},
   "outputs": [],
   "source": [
    "# sort the tdata based on the cuisine name\n",
    "tdata = sorted(tdata,key = lambda x:x[1][0])\n",
    "\n",
    "# create a dictionary which contains the index range of recipes for each cuisine \n",
    "\n",
    "index_dict = dict()\n",
    "start = -1\n",
    "end = 0\n",
    "for i in range(len(tdata)):\n",
    "    if(start == -1):\n",
    "        start = i\n",
    "    if(i==len(tdata)-1 or tdata[i][1][0] != tdata[i+1][1][0]):\n",
    "        index_dict[tdata[i][1][0]] = (start,i)\n",
    "        start = -1"
   ]
  },
  {
   "cell_type": "code",
   "execution_count": 9,
   "metadata": {},
   "outputs": [
    {
     "data": {
      "text/plain": [
       "{'Canadian': (0, 6693),\n",
       " 'Indian_Subcontinent': (6694, 13156),\n",
       " 'Italian': (13157, 29730),\n",
       " 'Mexican': (29731, 44177),\n",
       " 'South_American': (44178, 51348)}"
      ]
     },
     "execution_count": 9,
     "metadata": {},
     "output_type": "execute_result"
    }
   ],
   "source": [
    "index_dict"
   ]
  },
  {
   "cell_type": "markdown",
   "metadata": {},
   "source": [
    "## EXPERIMENT START"
   ]
  },
  {
   "cell_type": "code",
   "execution_count": 10,
   "metadata": {},
   "outputs": [],
   "source": [
    "def find_replacement(original_ing, original_cuisine, target_cuisine, ing_emb_dict, cuisine_emb_dict):\n",
    "  \n",
    "    # reqd = ing_vector + target_cuisine_vector - original_cuisine_vector\n",
    "    required_emb = ing_emb_dict[original_cuisine][original_ing] - cuisine_emb_dict[original_cuisine] + cuisine_emb_dict[target_cuisine]\n",
    "\n",
    "    new_ing = None\n",
    "    max_cos_sim = 0\n",
    "\n",
    "    if target_cuisine in ing_emb_dict:\n",
    "        target_ing_dict = ing_emb_dict[target_cuisine]\n",
    "\n",
    "        for key, value in target_ing_dict.items():  \n",
    "              cos_sim = cosine_similarity([required_emb], [value])\n",
    "              if key==original_ing:\n",
    "                continue\n",
    "              else:  \n",
    "            \n",
    "\n",
    "                   if cos_sim > max_cos_sim:\n",
    "                        max_cos_sim = cos_sim\n",
    "                        new_ing = key\n",
    "    return new_ing"
   ]
  },
  {
   "cell_type": "code",
   "execution_count": 11,
   "metadata": {
    "tags": []
   },
   "outputs": [
    {
     "name": "stdout",
     "output_type": "stream",
     "text": [
      "True\n",
      "False\n"
     ]
    }
   ],
   "source": [
    "test_str=\"a\"\n",
    "test_dict= {\"a\":1,\"b\":2}\n",
    "\n",
    "for key,_ in test_dict.items():\n",
    "    print(key is test_str)"
   ]
  },
  {
   "cell_type": "code",
   "execution_count": 12,
   "metadata": {
    "tags": []
   },
   "outputs": [
    {
     "data": {
      "text/plain": [
       "False"
      ]
     },
     "execution_count": 12,
     "metadata": {},
     "output_type": "execute_result"
    }
   ],
   "source": [
    "'salt' is not 'salt'   "
   ]
  },
  {
   "cell_type": "code",
   "execution_count": 13,
   "metadata": {
    "tags": []
   },
   "outputs": [
    {
     "data": {
      "text/plain": [
       "True"
      ]
     },
     "execution_count": 13,
     "metadata": {},
     "output_type": "execute_result"
    }
   ],
   "source": [
    "'Canadian' in ing_emb_dict"
   ]
  },
  {
   "cell_type": "code",
   "execution_count": 14,
   "metadata": {},
   "outputs": [
    {
     "data": {
      "text/plain": [
       "'white_corn_syrup'"
      ]
     },
     "execution_count": 14,
     "metadata": {},
     "output_type": "execute_result"
    }
   ],
   "source": [
    "find_replacement('salt', 'Italian', 'Mexican', ing_emb_dict, cuisine_emb_dict)"
   ]
  },
  {
   "cell_type": "code",
   "execution_count": 15,
   "metadata": {
    "id": "wcf-zxMigj8S"
   },
   "outputs": [
    {
     "name": "stdout",
     "output_type": "stream",
     "text": [
      "Starting Experiment\n"
     ]
    },
    {
     "name": "stderr",
     "output_type": "stream",
     "text": [
      "  0%|                                                     | 0/1 [00:00<?, ?it/s]"
     ]
    },
    {
     "name": "stdout",
     "output_type": "stream",
     "text": [
      "5 recipes written\n",
      "10 recipes written\n",
      "15 recipes written\n",
      "20 recipes written\n",
      "25 recipes written\n",
      "30 recipes written\n",
      "35 recipes written\n",
      "40 recipes written\n",
      "45 recipes written\n",
      "50 recipes written\n",
      "55 recipes written\n",
      "60 recipes written\n",
      "65 recipes written\n",
      "70 recipes written\n",
      "75 recipes written\n",
      "80 recipes written\n",
      "85 recipes written\n",
      "90 recipes written\n",
      "95 recipes written\n",
      "100 recipes written\n",
      "105 recipes written\n",
      "110 recipes written\n",
      "115 recipes written\n",
      "120 recipes written\n",
      "125 recipes written\n",
      "130 recipes written\n",
      "135 recipes written\n",
      "140 recipes written\n",
      "145 recipes written\n",
      "150 recipes written\n",
      "155 recipes written\n",
      "160 recipes written\n",
      "165 recipes written\n",
      "170 recipes written\n",
      "175 recipes written\n",
      "180 recipes written\n",
      "185 recipes written\n",
      "190 recipes written\n",
      "195 recipes written\n",
      "200 recipes written\n",
      "205 recipes written\n",
      "210 recipes written\n",
      "215 recipes written\n",
      "220 recipes written\n",
      "225 recipes written\n",
      "230 recipes written\n",
      "235 recipes written\n",
      "240 recipes written\n",
      "245 recipes written\n",
      "250 recipes written\n",
      "255 recipes written\n",
      "260 recipes written\n",
      "265 recipes written\n",
      "270 recipes written\n",
      "275 recipes written\n",
      "280 recipes written\n",
      "285 recipes written\n",
      "290 recipes written\n",
      "295 recipes written\n",
      "300 recipes written\n",
      "305 recipes written\n",
      "310 recipes written\n",
      "315 recipes written\n",
      "320 recipes written\n",
      "325 recipes written\n",
      "330 recipes written\n",
      "335 recipes written\n",
      "340 recipes written\n",
      "345 recipes written\n",
      "350 recipes written\n",
      "355 recipes written\n",
      "360 recipes written\n",
      "365 recipes written\n",
      "370 recipes written\n",
      "375 recipes written\n",
      "380 recipes written\n",
      "385 recipes written\n",
      "390 recipes written\n",
      "395 recipes written\n",
      "400 recipes written\n",
      "405 recipes written\n",
      "410 recipes written\n",
      "415 recipes written\n",
      "420 recipes written\n",
      "425 recipes written\n",
      "430 recipes written\n",
      "435 recipes written\n",
      "440 recipes written\n",
      "445 recipes written\n",
      "450 recipes written\n",
      "455 recipes written\n",
      "460 recipes written\n",
      "465 recipes written\n",
      "470 recipes written\n",
      "475 recipes written\n",
      "480 recipes written\n",
      "485 recipes written\n",
      "490 recipes written\n",
      "495 recipes written\n",
      "500 recipes written\n",
      "505 recipes written\n",
      "510 recipes written\n",
      "515 recipes written\n",
      "520 recipes written\n",
      "525 recipes written\n",
      "530 recipes written\n",
      "535 recipes written\n",
      "540 recipes written\n",
      "545 recipes written\n",
      "550 recipes written\n",
      "555 recipes written\n",
      "560 recipes written\n",
      "565 recipes written\n",
      "570 recipes written\n",
      "575 recipes written\n",
      "580 recipes written\n",
      "585 recipes written\n",
      "590 recipes written\n",
      "595 recipes written\n",
      "600 recipes written\n",
      "605 recipes written\n",
      "610 recipes written\n",
      "615 recipes written\n",
      "620 recipes written\n",
      "625 recipes written\n",
      "630 recipes written\n",
      "635 recipes written\n",
      "640 recipes written\n",
      "645 recipes written\n",
      "650 recipes written\n",
      "655 recipes written\n",
      "660 recipes written\n",
      "665 recipes written\n",
      "670 recipes written\n",
      "675 recipes written\n",
      "680 recipes written\n",
      "685 recipes written\n",
      "690 recipes written\n",
      "695 recipes written\n",
      "700 recipes written\n",
      "705 recipes written\n",
      "710 recipes written\n",
      "715 recipes written\n",
      "720 recipes written\n",
      "725 recipes written\n",
      "730 recipes written\n",
      "735 recipes written\n",
      "740 recipes written\n",
      "745 recipes written\n",
      "750 recipes written\n",
      "755 recipes written\n",
      "760 recipes written\n",
      "765 recipes written\n",
      "770 recipes written\n",
      "775 recipes written\n",
      "780 recipes written\n",
      "785 recipes written\n",
      "790 recipes written\n",
      "795 recipes written\n",
      "800 recipes written\n",
      "805 recipes written\n",
      "810 recipes written\n",
      "815 recipes written\n",
      "820 recipes written\n",
      "825 recipes written\n",
      "830 recipes written\n",
      "835 recipes written\n",
      "840 recipes written\n",
      "845 recipes written\n",
      "850 recipes written\n",
      "855 recipes written\n",
      "860 recipes written\n",
      "865 recipes written\n",
      "870 recipes written\n",
      "875 recipes written\n",
      "880 recipes written\n",
      "885 recipes written\n",
      "890 recipes written\n",
      "895 recipes written\n",
      "900 recipes written\n",
      "905 recipes written\n",
      "910 recipes written\n",
      "915 recipes written\n",
      "920 recipes written\n",
      "925 recipes written\n",
      "930 recipes written\n",
      "935 recipes written\n",
      "940 recipes written\n",
      "945 recipes written\n",
      "950 recipes written\n",
      "955 recipes written\n",
      "960 recipes written\n",
      "965 recipes written\n",
      "970 recipes written\n",
      "975 recipes written\n",
      "980 recipes written\n",
      "985 recipes written\n",
      "990 recipes written\n",
      "995 recipes written\n",
      "1000 recipes written\n",
      "1005 recipes written\n",
      "1010 recipes written\n",
      "1015 recipes written\n",
      "1020 recipes written\n",
      "1025 recipes written\n",
      "1030 recipes written\n",
      "1035 recipes written\n",
      "1040 recipes written\n",
      "1045 recipes written\n",
      "1050 recipes written\n",
      "1055 recipes written\n",
      "1060 recipes written\n",
      "1065 recipes written\n",
      "1070 recipes written\n",
      "1075 recipes written\n",
      "1080 recipes written\n",
      "1085 recipes written\n",
      "1090 recipes written\n",
      "1095 recipes written\n",
      "1100 recipes written\n",
      "1105 recipes written\n",
      "1110 recipes written\n",
      "1115 recipes written\n",
      "1120 recipes written\n",
      "1125 recipes written\n",
      "1130 recipes written\n",
      "1135 recipes written\n",
      "1140 recipes written\n",
      "1145 recipes written\n",
      "1150 recipes written\n",
      "1155 recipes written\n",
      "1160 recipes written\n",
      "1165 recipes written\n",
      "1170 recipes written\n",
      "1175 recipes written\n",
      "1180 recipes written\n",
      "1185 recipes written\n",
      "1190 recipes written\n",
      "1195 recipes written\n",
      "1200 recipes written\n",
      "1205 recipes written\n",
      "1210 recipes written\n",
      "1215 recipes written\n",
      "1220 recipes written\n",
      "1225 recipes written\n",
      "1230 recipes written\n",
      "1235 recipes written\n",
      "1240 recipes written\n",
      "1245 recipes written\n",
      "1250 recipes written\n",
      "1255 recipes written\n",
      "1260 recipes written\n",
      "1265 recipes written\n",
      "1270 recipes written\n",
      "1275 recipes written\n",
      "1280 recipes written\n",
      "1285 recipes written\n",
      "1290 recipes written\n",
      "1295 recipes written\n",
      "1300 recipes written\n",
      "1305 recipes written\n",
      "1310 recipes written\n",
      "1315 recipes written\n",
      "1320 recipes written\n",
      "1325 recipes written\n",
      "1330 recipes written\n",
      "1335 recipes written\n",
      "1340 recipes written\n",
      "1345 recipes written\n",
      "1350 recipes written\n",
      "1355 recipes written\n",
      "1360 recipes written\n",
      "1365 recipes written\n",
      "1370 recipes written\n",
      "1375 recipes written\n",
      "1380 recipes written\n",
      "1385 recipes written\n",
      "1390 recipes written\n",
      "1395 recipes written\n",
      "1400 recipes written\n",
      "1405 recipes written\n",
      "1410 recipes written\n",
      "1415 recipes written\n",
      "1420 recipes written\n",
      "1425 recipes written\n",
      "1430 recipes written\n",
      "1435 recipes written\n",
      "1440 recipes written\n",
      "1445 recipes written\n",
      "1450 recipes written\n",
      "1455 recipes written\n",
      "1460 recipes written\n",
      "1465 recipes written\n",
      "1470 recipes written\n",
      "1475 recipes written\n",
      "1480 recipes written\n",
      "1485 recipes written\n",
      "1490 recipes written\n",
      "1495 recipes written\n",
      "1500 recipes written\n",
      "1505 recipes written\n",
      "1510 recipes written\n",
      "1515 recipes written\n",
      "1520 recipes written\n",
      "1525 recipes written\n",
      "1530 recipes written\n",
      "1535 recipes written\n",
      "1540 recipes written\n",
      "1545 recipes written\n",
      "1550 recipes written\n",
      "1555 recipes written\n",
      "1560 recipes written\n",
      "1565 recipes written\n",
      "1570 recipes written\n",
      "1575 recipes written\n",
      "1580 recipes written\n",
      "1585 recipes written\n",
      "1590 recipes written\n",
      "1595 recipes written\n",
      "1600 recipes written\n",
      "1605 recipes written\n",
      "1610 recipes written\n",
      "1615 recipes written\n",
      "1620 recipes written\n",
      "1625 recipes written\n",
      "1630 recipes written\n",
      "1635 recipes written\n",
      "1640 recipes written\n",
      "1645 recipes written\n",
      "1650 recipes written\n",
      "1655 recipes written\n",
      "1660 recipes written\n",
      "1665 recipes written\n",
      "1670 recipes written\n",
      "1675 recipes written\n",
      "1680 recipes written\n",
      "1685 recipes written\n",
      "1690 recipes written\n",
      "1695 recipes written\n",
      "1700 recipes written\n",
      "1705 recipes written\n",
      "1710 recipes written\n",
      "1715 recipes written\n",
      "1720 recipes written\n",
      "1725 recipes written\n",
      "1730 recipes written\n",
      "1735 recipes written\n",
      "1740 recipes written\n",
      "1745 recipes written\n",
      "1750 recipes written\n",
      "1755 recipes written\n",
      "1760 recipes written\n",
      "1765 recipes written\n",
      "1770 recipes written\n",
      "1775 recipes written\n",
      "1780 recipes written\n",
      "1785 recipes written\n",
      "1790 recipes written\n",
      "1795 recipes written\n",
      "1800 recipes written\n",
      "1805 recipes written\n",
      "1810 recipes written\n",
      "1815 recipes written\n",
      "1820 recipes written\n",
      "1825 recipes written\n",
      "1830 recipes written\n",
      "1835 recipes written\n",
      "1840 recipes written\n",
      "1845 recipes written\n",
      "1850 recipes written\n",
      "1855 recipes written\n",
      "1860 recipes written\n",
      "1865 recipes written\n",
      "1870 recipes written\n",
      "1875 recipes written\n",
      "1880 recipes written\n",
      "1885 recipes written\n",
      "1890 recipes written\n",
      "1895 recipes written\n",
      "1900 recipes written\n",
      "1905 recipes written\n",
      "1910 recipes written\n",
      "1915 recipes written\n",
      "1920 recipes written\n",
      "1925 recipes written\n",
      "1930 recipes written\n",
      "1935 recipes written\n",
      "1940 recipes written\n",
      "1945 recipes written\n",
      "1950 recipes written\n",
      "1955 recipes written\n",
      "1960 recipes written\n",
      "1965 recipes written\n",
      "1970 recipes written\n",
      "1975 recipes written\n",
      "1980 recipes written\n",
      "1985 recipes written\n",
      "1990 recipes written\n",
      "1995 recipes written\n"
     ]
    },
    {
     "name": "stderr",
     "output_type": "stream",
     "text": [
      "100%|█████████████████████████████████████████| 1/1 [2:34:14<00:00, 9254.04s/it]"
     ]
    },
    {
     "name": "stdout",
     "output_type": "stream",
     "text": [
      "2000 recipes written\n"
     ]
    },
    {
     "name": "stderr",
     "output_type": "stream",
     "text": [
      "\n"
     ]
    }
   ],
   "source": [
    "'''\n",
    "In each experiment, for each of the cuisine pair, first set the source and target cuisine.\n",
    "Then we select a 'recipe_num' randomally from the source cuisine's recipes (which has not already been processed),\n",
    "and then get it's ingredient list. We then create ing_percent_dict, which stores the relevance of that ingredient \n",
    "in the source cuisine. We then sort our ing_list in decreasing order of the value from ing_percent_dict. \n",
    "For each of the mutation we pick the first ing from our list and then find its \"most similar\" replacement from \n",
    "the target cuisine using the transformation model (here word2vec). \n",
    "\n",
    "The old list of ingredients is updated by replacing the ingredient with the new ingredient, and this list is provided\n",
    "as input to the prediction model for predicting the cuisine. If the predicted cuisine is same as the targeted cuisine, \n",
    "the experient is successful and thus move on to next experiment, otherwise the same experiment continues with the \n",
    "next mutation (i.e go on by replacing the next ingredient in the same way)\n",
    "\n",
    "For a experiment we store the 'steps' needed to make it a successful conversion (count of ingredients needed to be replaced),\n",
    "also the 'confidence' value stores the confidence with which the cuisine is predicted. \n",
    "And we also store the list of pair of ingredients being replaced with new ingredients.\n",
    "\n",
    "'''\n",
    "\n",
    "\n",
    "print(\"Starting Experiment\")\n",
    "recipe_written = 0\n",
    "for exp in tqdm(range(number_of_experiments)):\n",
    "    for ind1 in range(len(cuisine_list)):\n",
    "        # print(f\"I IS {i}\")\n",
    "        for ind2 in range(len(cuisine_list)):\n",
    "            if(ind1!=ind2):\n",
    "                # print(i)\n",
    "                # print(cuisine_list)\n",
    "                source = cuisine_list[ind1]\n",
    "                target = cuisine_list[ind2]\n",
    "                # flag = False\n",
    "                recipe_count = 0\n",
    "                done = []\n",
    "                z = 0\n",
    "                while recipe_count != recipes_to_transform:\n",
    "                    ingredientFromTo = {}\n",
    "\n",
    "                    # print(type(index_dict[source][0]))\n",
    "                    # print(type(k))\n",
    "                    # recipe_num = random.randint(index_dict[source][0] , index_dict[source][1] )\n",
    "                    recipe_num = index_dict[source][0]\n",
    "                    while recipe_num in done: \n",
    "                        recipe_num = random.randint(index_dict[source][0] , index_dict[source][1] )\n",
    "                    done.append(recipe_num)\n",
    "                    recipe = tdata[recipe_num][1]\n",
    "                    z += 1\n",
    "                    ingredients_orig = recipe[1:]\n",
    "                    cuisine_orig = recipe[0]\n",
    "                    ing_percent_dict = dict()\n",
    "                    for ing in ingredients_orig:\n",
    "                        ing_percent_dict[ing] = percentage_dict[cuisine_orig][ing]\n",
    "                        \n",
    "                    ingredients_new = ingredients_orig.copy()\n",
    "                    cuisine_new = target\n",
    "                    count = 0\n",
    "                    status = 'Failure'\n",
    "                    steps = 0\n",
    "                    confidence = 0\n",
    "                    for k in sorted(ing_percent_dict,key = ing_percent_dict.get,reverse = True):\n",
    "                        \n",
    "                        try:\n",
    "                            ## TO BE REPLACED FOR GETTING REPLACEMENT USING BERT MODEL\n",
    "\n",
    "                            # result = tran_model.wv.most_similar(positive=[cuisine_new,k],negative=[cuisine_orig],topn=7)\n",
    "                            # print(k)\n",
    "                            # print(cuisine_orig)\n",
    "                            # print(cuisine_new)\n",
    "                            # break\n",
    "                            result = find_replacement(k, cuisine_orig, cuisine_new, ing_emb_dict, cuisine_emb_dict)\n",
    "                            # print(result)\n",
    "                        except:\n",
    "                            print(\"This recipe failed\")\n",
    "                            continue\n",
    "                        \n",
    "                        new_ing = ''\n",
    "                        \n",
    "                        # Check if the new_ing is not the name of any cuisine or blank\n",
    "                        \n",
    "                        # for tup in result:\n",
    "                        #     if(tup[0] not in reg_dict.keys()):\n",
    "                        #         new_ing = tup[0]\n",
    "                        #         break\n",
    "                        if result not in reg_dict.keys():\n",
    "                            new_ing = result\n",
    "                        \n",
    "                        if(new_ing == ''):\n",
    "                            continue\n",
    "                        \n",
    "                        \n",
    "                        # The old ingredient is replaced by the new one in the 'ingredients_new' list\n",
    "\n",
    "                        ingredientFromTo[k] = new_ing\n",
    "                        for ind in range(len(ingredients_new)):\n",
    "                            if(ingredients_new[ind] == k):\n",
    "                                ingredients_new[ind] = new_ing\n",
    "                                break\n",
    "\n",
    "                        # Prediction of cuisine is done by providing the 'ingredients_new' as an input to the model\n",
    "\n",
    "                        inp= ret_vec_for_model(ingredients_new)\n",
    "                        pred=pred_model(inp)\n",
    "                        pred = F.softmax(pred)\n",
    "                        pred_cuisine = torch.topk(pred.flatten(),5)\n",
    "                        \n",
    "                        # Get the predicted cuisine's name from the generated result\n",
    "\n",
    "                        p_cuis = ''\n",
    "                        for key in reg_dict:\n",
    "                            if(reg_dict[key] == pred_cuisine.indices[0]):\n",
    "                                p_cuis = key\n",
    "                                break\n",
    "                        count += 1\n",
    "\n",
    "                        # The mutation is a successful one if the predicted cuisine is the target cuisine \n",
    "                        # and the current experiment stops,\n",
    "                        # othwerwise the experiment continues with the next mutation\n",
    "\n",
    "                        if(p_cuis == target):\n",
    "                            status = 'Success'\n",
    "                            steps = count\n",
    "                            confidence = float(pred_cuisine.values[0]*100)\n",
    "                            break\n",
    "                        \n",
    "                    transformedIngredients = \"\"\n",
    "                    for i in ingredientFromTo: \n",
    "                        transformedIngredients+=i\n",
    "                        transformedIngredients+=\"->\"\n",
    "                        transformedIngredients+=ingredientFromTo[i]\n",
    "                        transformedIngredients+=\", \"\n",
    "                    transformedIngredients = transformedIngredients[:-2]\n",
    "                    writer.writerow([exp+1,tdata[recipe_num][0],source,target,len(ingredients_new),status,steps,confidence,transformedIngredients])\n",
    "                    recipe_count += 1\n",
    "                    recipe_written += 1\n",
    "                    if(recipe_written%5 == 0):\n",
    "                        print('{} recipes written'.format(recipe_written))\n",
    "f.close()"
   ]
  },
  {
   "cell_type": "code",
   "execution_count": null,
   "metadata": {},
   "outputs": [],
   "source": []
  },
  {
   "cell_type": "markdown",
   "metadata": {},
   "source": [
    "## CONFUSION MATRIX (TRANSFORMATION MATRIX)"
   ]
  },
  {
   "cell_type": "code",
   "execution_count": 16,
   "metadata": {},
   "outputs": [],
   "source": [
    "test_path=\"sbert_new_inst_assess_table_2000_BERT.csv\"\n",
    "#table = pd.read_csv('new_inst_assess_table_'+str(total_data)+'_BERT.csv')\n",
    "table=pd.read_csv(test_path)\n",
    "cuisine_list = ['Italian','Mexican','South_American','Canadian','Indian_Subcontinent']\n",
    "\n",
    "matrix = list()\n",
    "for i in range(len(cuisine_list)):\n",
    "    matrix.append([0]*no_classes)\n",
    "\n",
    "total_recipes_transformed_per_cuisine = (no_classes-1)*(recipes_to_transform)\n",
    "class_wise_accuracy = [0]*no_classes\n",
    "total_accuracy = 0\n",
    "\n",
    "data = {}\n",
    "\n",
    "for i in table.index:\n",
    "    exp = table[columns[0]][i]\n",
    "    dest = table[columns[3]][i]\n",
    "    source = table[columns[2]][i]\n",
    "    result = table[columns[5]][i]\n",
    "    if(exp not in data):\n",
    "        data[exp] = {}\n",
    "    if(dest not in data[exp]):\n",
    "        data[exp][dest] = {}\n",
    "    if(source not in data[exp][dest]):\n",
    "        data[exp][dest][source] = 0\n",
    "    if(result == 'Success'):\n",
    "        data[exp][dest][source] += 1\n",
    "\n",
    "exp_acc = {}\n",
    "for i in range(number_of_experiments): \n",
    "    exp_data = data[i+1]\n",
    "    exp_acc[i+1] = {}\n",
    "    exp_acc[i+1]['Average (All Cuisines)'] = 0\n",
    "\n",
    "    for cuisine1 in range(len(cuisine_list)):\n",
    "        for cuisine2 in range(len(cuisine_list)):\n",
    "            if(cuisine1!=cuisine2):\n",
    "                matrix[cuisine1][cuisine2] += (exp_data[cuisine_list[cuisine2]][cuisine_list[cuisine1]]/(number_of_experiments*recipes_to_transform))\n",
    "                exp_acc[i+1]['Average (All Cuisines)'] += (exp_data[cuisine_list[cuisine2]][cuisine_list[cuisine1]]/(len(cuisine_list)*(len(cuisine_list)-1)*recipes_to_transform))\n",
    "                if(cuisine_list[cuisine2] not in exp_acc[i+1].keys()):\n",
    "                    exp_acc[i+1][cuisine_list[cuisine2]] = 0\n",
    "                exp_acc[i+1][cuisine_list[cuisine2]] += (exp_data[cuisine_list[cuisine2]][cuisine_list[cuisine1]]/((len(cuisine_list)-1)*recipes_to_transform))\n",
    "\n",
    "for i in range(len(matrix)):\n",
    "    for j in range(len(matrix[0])):\n",
    "        matrix[i][j] = int(matrix[i][j]*100)"
   ]
  },
  {
   "cell_type": "code",
   "execution_count": 17,
   "metadata": {
    "tags": []
   },
   "outputs": [
    {
     "data": {
      "text/plain": [
       "[[0, 78, 56, 65, 23],\n",
       " [68, 0, 57, 72, 38],\n",
       " [66, 87, 0, 63, 30],\n",
       " [76, 75, 60, 0, 52],\n",
       " [82, 89, 64, 96, 0]]"
      ]
     },
     "execution_count": 17,
     "metadata": {},
     "output_type": "execute_result"
    }
   ],
   "source": [
    "matrix"
   ]
  },
  {
   "cell_type": "code",
   "execution_count": 18,
   "metadata": {},
   "outputs": [],
   "source": [
    "import matplotlib.pyplot as plt\n",
    "import seaborn as sn"
   ]
  },
  {
   "cell_type": "code",
   "execution_count": 19,
   "metadata": {},
   "outputs": [
    {
     "data": {
      "image/png": "[encoded data removed]",
      "text/plain": [
       "<Figure size 3600x1800 with 2 Axes>"
      ]
     },
     "metadata": {},
     "output_type": "display_data"
    }
   ],
   "source": [
    "df_cm = pd.DataFrame(matrix, index = [i.replace('_',' ') for i in cuisine_list], columns = [i.replace('_',' ') for i in cuisine_list])\n",
    "  \n",
    "plt.figure(figsize = (36,18))\n",
    "sn.set(font_scale=2.5)\n",
    "g = sn.heatmap(df_cm, annot=True, annot_kws={\"size\": 30},cmap = \"Blues\")\n",
    "g.set_yticklabels(g.get_yticklabels(), rotation=0, horizontalalignment='right')\n",
    "plt.title(\"Ingredient_Instruction_BERT_\"+str(recipes_to_transform)+\"_Recipes\",fontsize = 50)\n",
    "plt.xlabel(\"Destination\",fontsize = 50)\n",
    "plt.ylabel(\"Source\",fontsize = 50)\n",
    "# Recipe Transformation Performance \n",
    "plt.savefig('confusion_matrix_'+str(total_data)+'.png', dpi = 300)\n"
   ]
  },
  {
   "cell_type": "code",
   "execution_count": null,
   "metadata": {},
   "outputs": [],
   "source": []
  },
  {
   "cell_type": "code",
   "execution_count": null,
   "metadata": {},
   "outputs": [],
   "source": []
  }
 ],
 "metadata": {
  "colab": {
   "provenance": []
  },
  "kernelspec": {
   "display_name": "Python 3 (ipykernel)",
   "language": "python",
   "name": "python3"
  },
  "language_info": {
   "codemirror_mode": {
    "name": "ipython",
    "version": 3
   },
   "file_extension": ".py",
   "mimetype": "text/x-python",
   "name": "python",
   "nbconvert_exporter": "python",
   "pygments_lexer": "ipython3",
   "version": "3.11.3"
  }
 },
 "nbformat": 4,
 "nbformat_minor": 4
}
